{
 "cells": [
  {
   "cell_type": "code",
   "execution_count": 9,
   "metadata": {
    "collapsed": true
   },
   "outputs": [],
   "source": [
    "import os\n",
    "path = \"/Users/seungyonglee/dev/git/adidas/\""
   ]
  },
  {
   "cell_type": "code",
   "execution_count": 10,
   "metadata": {
    "collapsed": false
   },
   "outputs": [
    {
     "name": "stdout",
     "output_type": "stream",
     "text": [
      "파일 이름 수정 전 : /Users/seungyonglee/dev/git/adidas/untitled_1.txt\n",
      "파일 이름 수정 전 : /Users/seungyonglee/dev/git/adidas/untitled_2.txt\n"
     ]
    }
   ],
   "source": [
    "for filename in os.listdir(path):\n",
    "    if filename[-3:] == \"txt\":\n",
    "        print \"파일 이름 수정 전 : \"+path+filename\n",
    "        os.rename(path+filename, path+\"[Edit]\"+filename)"
   ]
  },
  {
   "cell_type": "code",
   "execution_count": 11,
   "metadata": {
    "collapsed": false
   },
   "outputs": [
    {
     "name": "stdout",
     "output_type": "stream",
     "text": [
      "파일 이름 수정 후 : /Users/seungyonglee/dev/git/adidas/[Edit]untitled_1.txt\n",
      "파일 이름 수정 후 : /Users/seungyonglee/dev/git/adidas/[Edit]untitled_2.txt\n"
     ]
    }
   ],
   "source": [
    "for filename in os.listdir(path):\n",
    "        if filename[-3:] == \"txt\":\n",
    "            print \"파일 이름 수정 후 : \"+path+filename"
   ]
  },
  {
   "cell_type": "code",
   "execution_count": null,
   "metadata": {
    "collapsed": true
   },
   "outputs": [],
   "source": []
  }
 ],
 "metadata": {
  "kernelspec": {
   "display_name": "Python 2",
   "language": "python",
   "name": "python2"
  },
  "language_info": {
   "codemirror_mode": {
    "name": "ipython",
    "version": 2
   },
   "file_extension": ".py",
   "mimetype": "text/x-python",
   "name": "python",
   "nbconvert_exporter": "python",
   "pygments_lexer": "ipython2",
   "version": "2.7.10"
  }
 },
 "nbformat": 4,
 "nbformat_minor": 2
}
