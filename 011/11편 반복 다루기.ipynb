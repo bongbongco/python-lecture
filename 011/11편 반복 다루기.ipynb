{
 "cells": [
  {
   "cell_type": "code",
   "execution_count": 15,
   "metadata": {
    "collapsed": false
   },
   "outputs": [
    {
     "name": "stdout",
     "output_type": "stream",
     "text": [
      "오늘도 프로그래밍 공부!0\n",
      "오늘도 프로그래밍 공부!1\n",
      "오늘도 프로그래밍 공부!2\n",
      "오늘도 프로그래밍 공부!3\n",
      "오늘도 프로그래밍 공부!4\n"
     ]
    }
   ],
   "source": [
    "num = 0\n",
    "print \"오늘도 프로그래밍 공부!\" + str(num)\n",
    "num += 1\n",
    "print \"오늘도 프로그래밍 공부!\" + str(num)\n",
    "num += 1\n",
    "print \"오늘도 프로그래밍 공부!\" + str(num)\n",
    "num += 1\n",
    "print \"오늘도 프로그래밍 공부!\" + str(num)\n",
    "num += 1\n",
    "print \"오늘도 프로그래밍 공부!\" + str(num)"
   ]
  },
  {
   "cell_type": "code",
   "execution_count": 17,
   "metadata": {
    "collapsed": false
   },
   "outputs": [
    {
     "name": "stdout",
     "output_type": "stream",
     "text": [
      "오늘도 프로그래밍 공부!0\n",
      "오늘도 프로그래밍 공부!1\n",
      "오늘도 프로그래밍 공부!2\n",
      "오늘도 프로그래밍 공부!3\n",
      "오늘도 프로그래밍 공부!4\n"
     ]
    }
   ],
   "source": [
    "for num in range(5):\n",
    "    print \"오늘도 프로그래밍 공부!\" + str(num)"
   ]
  },
  {
   "cell_type": "code",
   "execution_count": 21,
   "metadata": {
    "collapsed": false
   },
   "outputs": [
    {
     "name": "stdout",
     "output_type": "stream",
     "text": [
      "오늘도 프로그래밍 공부!0\n",
      "오늘도 프로그래밍 공부!1\n",
      "오늘도 프로그래밍 공부!2\n",
      "오늘도 프로그래밍 공부!3\n",
      "오늘도 프로그래밍 공부!4\n"
     ]
    }
   ],
   "source": [
    "numList = [0, 1, 2, 3, 4]\n",
    "for num in numList:\n",
    "    print \"오늘도 프로그래밍 공부!\" + str(num)"
   ]
  },
  {
   "cell_type": "code",
   "execution_count": 24,
   "metadata": {
    "collapsed": false
   },
   "outputs": [
    {
     "name": "stdout",
     "output_type": "stream",
     "text": [
      "오늘도 프로그래밍 공부!0\n",
      "오늘도 프로그래밍 공부!1\n",
      "오늘도 프로그래밍 공부!2\n",
      "오늘도 프로그래밍 공부!3\n",
      "오늘도 프로그래밍 공부!4\n"
     ]
    }
   ],
   "source": [
    "num = 0\n",
    "while num < 5:\n",
    "    print \"오늘도 프로그래밍 공부!\" + str(num)\n",
    "    num += 1"
   ]
  },
  {
   "cell_type": "code",
   "execution_count": null,
   "metadata": {
    "collapsed": true
   },
   "outputs": [],
   "source": []
  }
 ],
 "metadata": {
  "kernelspec": {
   "display_name": "Python 2",
   "language": "python",
   "name": "python2"
  },
  "language_info": {
   "codemirror_mode": {
    "name": "ipython",
    "version": 2
   },
   "file_extension": ".py",
   "mimetype": "text/x-python",
   "name": "python",
   "nbconvert_exporter": "python",
   "pygments_lexer": "ipython2",
   "version": "2.7.12"
  }
 },
 "nbformat": 4,
 "nbformat_minor": 1
}
